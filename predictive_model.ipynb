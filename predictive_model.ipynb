{
 "cells": [
  {
   "cell_type": "markdown",
   "id": "6e955f9f-fdd5-4ed1-a711-5a442ab16924",
   "metadata": {},
   "source": [
    "## Imports"
   ]
  },
  {
   "cell_type": "code",
   "execution_count": 18,
   "id": "c25c87c6-f338-42c3-bcc2-5b925cb564e1",
   "metadata": {},
   "outputs": [],
   "source": [
    "import os\n",
    "import pandas as pd\n",
    "import numpy as np\n",
    "import joblib\n",
    "from sklearn.linear_model import LinearRegression\n",
    "from sklearn.model_selection import train_test_split\n",
    "from sklearn.metrics import mean_absolute_error, mean_squared_error, r2_score\n",
    "from sklearn.preprocessing import OneHotEncoder\n",
    "import matplotlib.pyplot as plt"
   ]
  },
  {
   "cell_type": "markdown",
   "id": "561afc17-e8ec-459e-a130-23aaaad0c3f8",
   "metadata": {},
   "source": [
    "## Load data from Excel file"
   ]
  },
  {
   "cell_type": "code",
   "execution_count": 19,
   "id": "b910af71-4dc0-46ea-a060-bb4081c463f1",
   "metadata": {},
   "outputs": [],
   "source": [
    "def load_data(file_path, sheet_name='Road Information.shp'):\n",
    "    return pd.read_excel(file_path, sheet_name=sheet_name)"
   ]
  },
  {
   "cell_type": "markdown",
   "id": "1dc6c81c-4f01-4440-80ed-87aee2150dd0",
   "metadata": {},
   "source": [
    "## Preprocess the data, fill NaN values"
   ]
  },
  {
   "cell_type": "code",
   "execution_count": 20,
   "id": "bf7bc375-2388-49b7-8cad-2647125be725",
   "metadata": {},
   "outputs": [],
   "source": [
    "def preprocess_data(data):\n",
    "    data.fillna(0, inplace=True)\n",
    "    data['Length'] = data['Length'].astype(float)\n",
    "    data['AADT'] = data['AADT'].astype(int)\n",
    "    data['Speed_Lmt'] = data['Speed_Lmt'].astype(int)\n",
    "    data['SNW_ACC_D'] = data['SNW_ACC_D'].astype(float)\n",
    "    data['SNW_ACC_T'] = data['SNW_ACC_T'].astype(float)\n",
    "    data['ICE_TIME'] = data['ICE_TIME'].astype(float)\n",
    "    data['NumLanes'] = data['NumLanes'].astype(int)\n",
    "    data['LaneKM'] = data['LaneKM'].astype(float)\n",
    "    return data"
   ]
  },
  {
   "cell_type": "markdown",
   "id": "93635c12-98a8-4971-b344-ff2af25c1db3",
   "metadata": {},
   "source": [
    "## Extract frequency and interval"
   ]
  },
  {
   "cell_type": "code",
   "execution_count": 21,
   "id": "8fd2b11d-1ca4-45f7-8e71-de58957f4201",
   "metadata": {},
   "outputs": [],
   "source": [
    "def extract_frequency_days(freq_str):\n",
    "    if pd.isna(freq_str):\n",
    "        return (np.nan, np.nan)\n",
    "    try:\n",
    "        tokens = freq_str.split()\n",
    "        if \"Once\" in tokens:\n",
    "            interval = int(tokens[-2])\n",
    "            return (1, interval)\n",
    "        elif \"times\" in tokens:\n",
    "            frequency = int(tokens[0])\n",
    "            interval = int(tokens[-2])\n",
    "            return (frequency, interval)\n",
    "        else:\n",
    "            return (np.nan, np.nan)\n",
    "    except (ValueError, IndexError):\n",
    "        return (np.nan, np.nan)"
   ]
  },
  {
   "cell_type": "markdown",
   "id": "94545698-c38a-45dd-bab4-38ac8b2d4a71",
   "metadata": {},
   "source": [
    "## Prepare features"
   ]
  },
  {
   "cell_type": "code",
   "execution_count": 22,
   "id": "d36cb935-d445-4080-b675-2c9355e0b05f",
   "metadata": {},
   "outputs": [],
   "source": [
    "def prepare_features(data, selected_features, categorical_features):\n",
    "    encoder = OneHotEncoder()\n",
    "    encoded_categorical = encoder.fit_transform(data[categorical_features]).toarray()\n",
    "    features = np.hstack((data[selected_features].values, encoded_categorical))\n",
    "    return features, encoder, data[categorical_features]"
   ]
  },
  {
   "cell_type": "markdown",
   "id": "df574db9-4cbe-48bc-9e03-5789039b5b39",
   "metadata": {},
   "source": [
    "## Prepare target variables for frequency and interval"
   ]
  },
  {
   "cell_type": "code",
   "execution_count": 23,
   "id": "e0614606-244b-4a5f-8614-58192a4b4bc1",
   "metadata": {},
   "outputs": [],
   "source": [
    "def prepare_targets(data):\n",
    "    target_frequency = data.apply(lambda x: x[0])\n",
    "    target_interval = data.apply(lambda x: x[1])\n",
    "    return target_frequency, target_interval"
   ]
  },
  {
   "cell_type": "markdown",
   "id": "26ce037b-f4ef-427a-af24-1122fd2654d2",
   "metadata": {},
   "source": [
    "## Train and evaluate the linear regression models for frequency and interval"
   ]
  },
  {
   "cell_type": "code",
   "execution_count": 24,
   "id": "d9f07e1d-d1ba-4549-9bc0-d9ac31ab36ca",
   "metadata": {},
   "outputs": [],
   "source": [
    "def train_evaluate_model(X_train, y_train_freq, y_train_interval, X_test, y_test_freq, y_test_interval, model_freq=None, model_interval=None):\n",
    "    # Train the frequency model\n",
    "    if model_freq is None:\n",
    "        model_freq = LinearRegression()\n",
    "    model_freq.fit(X_train, y_train_freq)\n",
    "    y_pred_freq = model_freq.predict(X_test)\n",
    "    \n",
    "    # Train the interval model\n",
    "    if model_interval is None:\n",
    "        model_interval = LinearRegression()\n",
    "    model_interval.fit(X_train, y_train_interval)\n",
    "    y_pred_interval = model_interval.predict(X_test)\n",
    "    \n",
    "    # Ensure predictions are at least 1\n",
    "    y_pred_freq = np.maximum(y_pred_freq, 1)\n",
    "    y_pred_interval = np.maximum(y_pred_interval, 1)\n",
    "    \n",
    "    # Combine frequency and interval predictions\n",
    "    y_pred = np.column_stack((y_pred_freq, y_pred_interval))\n",
    "    \n",
    "    # Calculate evaluation metrics\n",
    "    metrics = {\n",
    "        'MAE': mean_absolute_error(np.column_stack((y_test_freq, y_test_interval)), y_pred),\n",
    "        'MSE': mean_squared_error(np.column_stack((y_test_freq, y_test_interval)), y_pred),\n",
    "        'R2': r2_score(np.column_stack((y_test_freq, y_test_interval)), y_pred)\n",
    "    }\n",
    "\n",
    "    return (model_freq, model_interval), y_pred, metrics"
   ]
  },
  {
   "cell_type": "markdown",
   "id": "d68a06fa-df3c-460f-a9be-cacd848e7c34",
   "metadata": {},
   "source": [
    "## Decode the predictions "
   ]
  },
  {
   "cell_type": "code",
   "execution_count": 25,
   "id": "494d6be3-639d-4006-a836-9ba062675b22",
   "metadata": {},
   "outputs": [],
   "source": [
    "def decode_prediction(y_pred, street_names, street_intersections):\n",
    "    decoded = []\n",
    "    seen = set() \n",
    "    for i, (freq, interval) in enumerate(y_pred):\n",
    "        freq = round(freq)\n",
    "        interval = round(interval)\n",
    "        st_name = street_names.iloc[i]\n",
    "        st_int = street_intersections.iloc[i]\n",
    "        \n",
    "        if \"/\" in st_name:\n",
    "            continue  \n",
    "        \n",
    "        if freq == 1:\n",
    "            if interval != 1:\n",
    "                prediction = f\"{st_name} - {st_int}: Once every {interval} days\"\n",
    "            else:\n",
    "                prediction = f\"{st_name} - {st_int}: Once daily\"\n",
    "        elif interval == 1:\n",
    "            if freq == 1:\n",
    "                prediction = f\"{st_name} - {st_int}: Once daily\"\n",
    "            else:\n",
    "                prediction = f\"{st_name} - {st_int}: {freq} times daily\"\n",
    "        elif freq > 1:\n",
    "            if interval == 1:\n",
    "                prediction = f\"{st_name} - {st_int}: {freq} times daily\"\n",
    "        else:\n",
    "            prediction = f\"{st_name} - {st_int}: {freq} times every {interval} days\"\n",
    "        \n",
    "        if prediction not in seen:\n",
    "            seen.add(prediction)\n",
    "            decoded.append(prediction)\n",
    "    \n",
    "    return decoded"
   ]
  },
  {
   "cell_type": "markdown",
   "id": "6e1baf5c-50d4-499c-965c-97fc3a694cdc",
   "metadata": {},
   "source": [
    "## Plot the model performance"
   ]
  },
  {
   "cell_type": "code",
   "execution_count": 26,
   "id": "b08b6731-2c59-4afc-8ed2-51e0a7744b31",
   "metadata": {},
   "outputs": [],
   "source": [
    "def plot_model_performance(y_test_freq, y_pred_freq, y_test_interval, y_pred_interval):\n",
    "    plt.figure(figsize=(12, 5))\n",
    "\n",
    "    # Plot frequency predictions\n",
    "    plt.subplot(1, 2, 1)\n",
    "    plt.scatter(y_test_freq, y_pred_freq, alpha=0.7)\n",
    "    plt.plot([min(y_test_freq), max(y_test_freq)], [min(y_test_freq), max(y_test_freq)], color='red', linewidth=2)\n",
    "    plt.xlabel('Actual Frequency')\n",
    "    plt.ylabel('Predicted Frequency')\n",
    "    plt.title('Actual vs Predicted Patrol Frequency')\n",
    "\n",
    "    # Plot interval predictions\n",
    "    plt.subplot(1, 2, 2)\n",
    "    plt.scatter(y_test_interval, y_pred_interval, alpha=0.7)\n",
    "    plt.plot([min(y_test_interval), max(y_test_interval)], [min(y_test_interval), max(y_test_interval)], color='red', linewidth=2)\n",
    "    plt.xlabel('Actual Interval')\n",
    "    plt.ylabel('Predicted Interval')\n",
    "    plt.title('Actual vs Predicted Patrol Interval')\n",
    "\n",
    "    plt.tight_layout()\n",
    "    plt.show()"
   ]
  },
  {
   "cell_type": "markdown",
   "id": "788c9e75-29fe-40b5-815c-d4fffcb62507",
   "metadata": {},
   "source": [
    "## Execute the Model"
   ]
  },
  {
   "cell_type": "markdown",
   "id": "fe31d844-0b44-4ea0-a213-6a56a6d3ea2b",
   "metadata": {},
   "source": [
    "## Define file paths directly"
   ]
  },
  {
   "cell_type": "code",
   "execution_count": 27,
   "id": "cb7781ab-fd9d-4290-bb14-d87282bc540e",
   "metadata": {},
   "outputs": [],
   "source": [
    "base_dir = os.getcwd() \n",
    "dataset_dir = os.path.join(base_dir, 'dataset')\n",
    "road_segments_file = os.path.join(dataset_dir, 'road_information.xlsx')\n",
    "model_dir = os.path.join(base_dir, 'models')\n",
    "os.makedirs(model_dir, exist_ok=True)\n",
    "model_freq_path = os.path.join(model_dir, 'model_freq.joblib')\n",
    "model_interval_path = os.path.join(model_dir, 'model_interval.joblib')\n",
    "encoder_path = os.path.join(model_dir, 'encoder.joblib')"
   ]
  },
  {
   "cell_type": "code",
   "execution_count": 34,
   "id": "8c20c788-ae13-4115-acdd-69e29b56693a",
   "metadata": {},
   "outputs": [
    {
     "name": "stdout",
     "output_type": "stream",
     "text": [
      "Initial Data Preview:\n",
      "   FID  Id       ST_NAME                    ST_INT  Length  AADT  Speed_Lmt  \\\n",
      "0    0   0    Powley St.       Dunedin to Dufferin     132   300         50   \n",
      "1    1   0   Dunedin St.        Victoria to Powley     191   800         50   \n",
      "2    2   0   Dunedin St.           Powley to Elmer     163   800         50   \n",
      "3    3   0   Dunedin St.  Elmer Park to Barrie Rd.     142   800         50   \n",
      "4    4   0  Dufferin St.    Powley St to Barrie Rd     227   500         50   \n",
      "\n",
      "   Class  SNW_ACC_D  SNW_ACC_T           PTRL_FREQ  ICE_TIME Assumed  \\\n",
      "0      5         10         24  Once every 14 days        16           \n",
      "1      4          8         16  Once every 14 days        12           \n",
      "2      4          8         16  Once every 14 days        12           \n",
      "3      4          8         16  Once every 14 days        12           \n",
      "4      4          8         16  Once every 14 days        12           \n",
      "\n",
      "   NumLanes  LaneKM Area  Routes_11  \n",
      "0         2     264               4  \n",
      "1         2     382               4  \n",
      "2         2     326               4  \n",
      "3         2     284               4  \n",
      "4         2     454               4  \n"
     ]
    }
   ],
   "source": [
    "if __name__ == \"__main__\":\n",
    "    # Load and preprocess data\n",
    "    data = load_data(road_segments_file)\n",
    "            \n",
    "    print(\"Initial Data Preview:\")\n",
    "    print(data.head())"
   ]
  },
  {
   "cell_type": "code",
   "execution_count": 35,
   "id": "06286761-6313-462f-b612-c2883c342db0",
   "metadata": {},
   "outputs": [
    {
     "name": "stdout",
     "output_type": "stream",
     "text": [
      "Data Information After Preprocessing:\n",
      "<class 'pandas.core.frame.DataFrame'>\n",
      "RangeIndex: 952 entries, 0 to 951\n",
      "Data columns (total 17 columns):\n",
      " #   Column     Non-Null Count  Dtype  \n",
      "---  ------     --------------  -----  \n",
      " 0   FID        952 non-null    int64  \n",
      " 1   Id         952 non-null    int64  \n",
      " 2   ST_NAME    952 non-null    object \n",
      " 3   ST_INT     952 non-null    object \n",
      " 4   Length     952 non-null    float64\n",
      " 5   AADT       952 non-null    int32  \n",
      " 6   Speed_Lmt  952 non-null    int32  \n",
      " 7   Class      952 non-null    int64  \n",
      " 8   SNW_ACC_D  952 non-null    float64\n",
      " 9   SNW_ACC_T  952 non-null    float64\n",
      " 10  PTRL_FREQ  952 non-null    object \n",
      " 11  ICE_TIME   952 non-null    float64\n",
      " 12  Assumed    952 non-null    object \n",
      " 13  NumLanes   952 non-null    int32  \n",
      " 14  LaneKM     952 non-null    float64\n",
      " 15  Area       952 non-null    object \n",
      " 16  Routes_11  952 non-null    int64  \n",
      "dtypes: float64(5), int32(3), int64(4), object(5)\n",
      "memory usage: 115.4+ KB\n",
      "None\n"
     ]
    }
   ],
   "source": [
    "    data = preprocess_data(data)\n",
    "    \n",
    "    print(\"Data Information After Preprocessing:\")\n",
    "    print(data.info())"
   ]
  },
  {
   "cell_type": "code",
   "execution_count": 36,
   "id": "5186ee5f-e78d-44d5-88af-6b4a54873a0c",
   "metadata": {},
   "outputs": [
    {
     "name": "stdout",
     "output_type": "stream",
     "text": [
      "Extracted Patrol Frequencies:\n",
      "0    (1, 14)\n",
      "1    (1, 14)\n",
      "2    (1, 14)\n",
      "3    (1, 14)\n",
      "4    (1, 14)\n",
      "Name: PTRL_FREQ, dtype: object\n"
     ]
    }
   ],
   "source": [
    "    # Extract patrol frequencies\n",
    "    data['PTRL_FREQ'] = data['PTRL_FREQ'].apply(extract_frequency_days)\n",
    "    data.dropna(subset=['PTRL_FREQ'], inplace=True)\n",
    "    \n",
    "    print(\"Extracted Patrol Frequencies:\")\n",
    "    print(data['PTRL_FREQ'].head())"
   ]
  },
  {
   "cell_type": "code",
   "execution_count": 37,
   "id": "e542f7ed-7436-4d4b-9d56-d289dcb46e17",
   "metadata": {},
   "outputs": [
    {
     "name": "stdout",
     "output_type": "stream",
     "text": [
      "No NaN Values\n"
     ]
    }
   ],
   "source": [
    "    # Prepare target variables\n",
    "    data['target_frequency'], data['target_interval'] = prepare_targets(data['PTRL_FREQ'])\n",
    "    selected_features = ['Length', 'AADT', 'Speed_Lmt', 'SNW_ACC_T', 'ICE_TIME', 'NumLanes', 'LaneKM']\n",
    "    categorical_features = ['ST_NAME', 'ST_INT']\n",
    "\n",
    "    # Prepare features and targets\n",
    "    X, encoder, original_categorical = prepare_features(data, selected_features, categorical_features)\n",
    "    y_freq, y_interval = prepare_targets(data['PTRL_FREQ'])\n",
    "\n",
    "    # Filter out rows with NaN values in target variables\n",
    "    mask = ~y_freq.isna() & ~y_interval.isna()\n",
    "    X = X[mask]\n",
    "    y_freq = y_freq[mask]\n",
    "    y_interval = y_interval[mask]\n",
    "\n",
    "    if y_freq.isnull().values.any() or y_interval.isnull().values.any():\n",
    "        raise ValueError(\"Target variables contain NaN values. Please handle missing values.\")\n",
    "    else:\n",
    "        print('No NaN Values')"
   ]
  },
  {
   "cell_type": "code",
   "execution_count": 38,
   "id": "57bfb52f-6980-46f9-b8a0-1934ab98c275",
   "metadata": {},
   "outputs": [
    {
     "name": "stdout",
     "output_type": "stream",
     "text": [
      "Models and encoder loaded from disk.\n"
     ]
    }
   ],
   "source": [
    "    # Split data into training and testing sets\n",
    "    X_train, X_test, y_train_freq, y_test_freq = train_test_split(X, y_freq, test_size=0.2, random_state=42)\n",
    "    X_train, X_test, y_train_interval, y_test_interval = train_test_split(X, y_interval, test_size=0.2, random_state=42)\n",
    "\n",
    "    # Load existing models if available, otherwise create new models\n",
    "    if os.path.exists(model_freq_path) and os.path.exists(model_interval_path) and os.path.exists(encoder_path):\n",
    "        model_freq = joblib.load(model_freq_path)\n",
    "        model_interval = joblib.load(model_interval_path)\n",
    "        encoder = joblib.load(encoder_path)\n",
    "        print(\"Models and encoder loaded from disk.\")\n",
    "    else:\n",
    "        model_freq = None\n",
    "        model_interval = None\n",
    "        print(\"No existing models found. New models will be created.\")\n",
    "        # Train and evaluate the models\n",
    "        models, y_pred, metrics = train_evaluate_model(X_train, y_train_freq, y_train_interval, X_test, y_test_freq, y_test_interval, model_freq, model_interval)\n",
    "\n",
    "        # Save the models and encoder to disk\n",
    "        joblib.dump(models[0], model_freq_path)\n",
    "        joblib.dump(models[1], model_interval_path)\n",
    "        joblib.dump(encoder, encoder_path)\n",
    "        print(\"Models and encoder saved to disk.\")"
   ]
  },
  {
   "cell_type": "code",
   "execution_count": 40,
   "id": "1298a3ae-c560-48b6-9ad8-18d555a13f81",
   "metadata": {},
   "outputs": [
    {
     "name": "stdout",
     "output_type": "stream",
     "text": [
      "Mean Absolute Error: 0.23\n",
      "Mean Squared Error: 0.67\n",
      "R-squared: 0.85\n"
     ]
    }
   ],
   "source": [
    "        # Decode and print predictions\n",
    "        decoded_predictions = decode_prediction(y_pred, original_categorical['ST_NAME'], original_categorical['ST_INT'])\n",
    "\n",
    "        print(f\"Mean Absolute Error: {metrics['MAE']:.2f}\")\n",
    "        print(f\"Mean Squared Error: {metrics['MSE']:.2f}\")\n",
    "        print(f\"R-squared: {metrics['R2']:.2f}\")"
   ]
  },
  {
   "cell_type": "code",
   "execution_count": 41,
   "id": "40d24353-e20c-4d75-9ef1-32b7c9dbb201",
   "metadata": {},
   "outputs": [
    {
     "name": "stdout",
     "output_type": "stream",
     "text": [
      "Decoded Predictions:\n",
      "Powley St. - Dunedin to Dufferin: Once every 30 days\n",
      "Dunedin St. - Victoria to Powley: Once every 30 days\n",
      "Dunedin St. - Powley to Elmer: Once every 7 days\n",
      "Dunedin St. - Elmer Park to Barrie Rd.: Once every 16 days\n",
      "Dufferin St. - Victoria St to Powley St: Once every 14 days\n",
      "Victoria St. - Dunedin St to Dufferin St: Once every 30 days\n",
      "Barrie Rd. - Dunedin St to Dufferrin St: Once every 14 days\n",
      "Dunedin St. - Memorial Ave to Victoria St: Once every 30 days\n",
      "Dufferin St - Colborne St to Victoria St: Once every 14 days\n",
      "Dunlop St - Colborne St to Victoria St: Once every 14 days\n",
      "Victoria St. - Dufferin St to Dunlop St: Once every 14 days\n",
      "Dunlop St. - Victoria St to Powley St: Once every 14 days\n",
      "Powley St - Dufferin St to Dunlop St: Once every 30 days\n",
      "Dunlop St - Powley St to Barrie Rd: Once every 7 days\n",
      "Victoria St - Dunlop St to Wyandotte St: Once every 30 days\n",
      "Wyandotte St. - Colborne St to Victoria St: Once every 14 days\n",
      "Wyandotte St. - Victoria St to Powley St: Once every 14 days\n",
      "Powley St. - Dunlop St to Wyandotte St.: Once every 14 days\n",
      "Wyandotte St. - Powley St to Barrie Rd: Once every 16 days\n",
      "Barrie Rd. - Dunlop St to Wyandotte St: Once every 7 days\n",
      "Barrie Rd. - Dunedin St. to Dunlop St.: Once every 14 days\n",
      "Victoria St. - Wyandotte St. to Albert St.: Once every 14 days\n",
      "Albert St. - Victoria St to Barrie Rd: Once every 14 days\n",
      "Albert St. - Colborne St. to Victoria St.: Once every 8 days\n",
      "Barrie Rd. - Wyandotte St. to Albert St.: Once every 14 days\n",
      "Victoria St. - Albert St to Andrew St.: Once every 30 days\n",
      "Andrew St. - Colborne St to Victoria St.: Once every 7 days\n",
      "Andrew St. - Victoria St to Barrie Rd: Once every 30 days\n",
      "Barrie Rd. - Albert St to Andrew St.: Once every 7 days\n",
      "Colborne St - Dufferin St to Dunlop St: Once every 30 days\n",
      "Colvorne St. - Dunlop St to Wyandotte St.: Once every 14 days\n",
      "Colborne St - Wyandotte St to Albert St.: Once every 14 days\n",
      "Colborne St. - Albert St to Andrew St: Once every 30 days\n",
      "Colborne St - Andrew St to West St: Once every 30 days\n",
      "Barrie Rd - Andrew St. to West St.: Once every 30 days\n",
      "West St. - Colborne St to Elgin St.: Once every 7 days\n",
      "West St. - Elgin St. to Western Ave.: Once every 30 days\n",
      "West St. - Western Ave. to Barrie Rd.: Once every 14 days\n",
      "Elmer Park - Memorial Ave. to Dunedin St.: Once every 30 days\n",
      "Barrie Rd. - Memorial Ave to Dunedin St.: Once every 14 days\n",
      "Colborne St - Memorial Ave to Dufferin St.: Once every 29 days\n",
      "Memorial Ave - Colborne St. to Edward St.: Once every 12 days\n",
      "Memorial Ave. - Edward St to Dunedin St.: Once every 14 days\n",
      "Edward St. - End to Memorial Ave.: Once every 14 days\n",
      "Kitchener St. - End to West St.: Once every 14 days\n",
      "West St - Hwy 12 to Kitchener St.: Once every 7 days\n",
      "West St - Kitchener St. to Shannon St.: Once every 30 days\n",
      "West St. - Shannon St. to Oliver Cres.: Once every 8 days\n",
      "High St. - Hwy 12 to Shannon St.: Once every 14 days\n",
      "High St. - Shannon St. to Maple Leaf Ave..: Once every 30 days\n",
      "Olive Cres. - West St to High St.: Once every 16 days\n",
      "High St. - Olive Cres. to End: Once every 14 days\n",
      "Shannon St. - High St. to Gill St.: Once every 14 days\n",
      "Gill St. - Hwy 12 to Shannon St.: Once every 14 days\n",
      "Maple Leaf Ave. - High St. to End: Once every 7 days\n",
      "Gill St. - Shannon St. to Lankin Blvd.: Once every 14 days\n",
      "Shannon St. - Gill St. to Kehoe Crt.: Once every 7 days\n",
      "Kehoe Crt. - End to Shannon St.: Once every 30 days\n",
      "Shannon St. - Kehoe Crt to Gaudaur Crt.: Once every 7 days\n",
      "Gaudaur Crt - End to Shannon St.: Once every 30 days\n",
      "Shannon St. - Gaudaur Crt to Carey Ln: Once every 30 days\n",
      "Carey Ln - Shannon St. to Lankin Blvd: Once every 14 days\n",
      "Shannon St. - Carey Ln to Sweetland Circle: Once every 14 days\n",
      "Shannon St. - Sweetland Circle to Forest Ave.: Once every 16 days\n",
      "Sweetland Circle - Shannon St. to End: Once every 30 days\n",
      "Forest Ave - Hwy 12 to Shannon St.: Once every 7 days\n",
      "Forest Ave. - Shannon St. to Rodger Rd.: Once every 7 days\n",
      "Forest Ave. - Rodger Rd to Lankin Blvd: Once every 30 days\n",
      "Lankin Blvd. - Carey Ln. to Forest Ave: Once every 16 days\n",
      "Lankin Blvd - Victoria Cres. to Carey Ln.: Once every 14 days\n",
      "Heyden Ave. - Victoria Cres to End: Once every 9 days\n",
      "Heyden Ave. - Victoria Cres to End: Once every 7 days\n",
      "Victoria Cres.. - Heyden Ave. to Heyden Ave.: Once daily\n",
      "Victoria Cres. - Lankin Blvd. to Heyden Ave.: Once every 14 days\n",
      "Victoria Cres. - Heyden Ave. to Forest Ave.: Once every 14 days\n",
      "Forest Ave. - Lankin Blvd. to Victoria Cres.: Once every 7 days\n",
      "Forest Ave. - Victoria Cres. to End: Once every 13 days\n",
      "Victoria Cres. - Forest Ave. to End: Once every 30 days\n",
      "Collins Dr. - MacIsaac Dr. to End: Once every 14 days\n",
      "Collins Dr. - Forest Ave. to MacIsaac Dr.: Once every 16 days\n",
      "MacIsaac Dr. - Rodgers Rd. to Collins Dr.: Once every 14 days\n",
      "Rodgers Rd. - Forest Ave to Macisaac Dr.: Once every 30 days\n",
      "James St. - West St to Keith St.: Once every 14 days\n",
      "James St. - Keith St to High St.: Once every 30 days\n",
      "James St. - High St. to Hoover Cres.: Once every 30 days\n",
      "James St. - Hoover Cres. to Gill St.: Once every 30 days\n",
      "James St. - Gill St. to Millard St.: Once every 14 days\n",
      "James St. - Millard St. to Joshua Ct.: Once every 14 days\n",
      "James St. - Joshua Ct. to Moffat St.: Once every 14 days\n",
      "James St. - Moffat St. to Regent St.: Once every 30 days\n",
      "James St. - Rgent St. to East St.: Once every 7 days\n",
      "James St. - East St. to Leslie St.: Once every 30 days\n",
      "James St. - Forest Ave. to Atherley Rd.: Once every 14 days\n",
      "Keith St. - James St. to End: Once every 14 days\n",
      "High St. - James St. to Hoover Cres.: Once every 7 days\n",
      "High St. - Hoover St. to Bond St.: Once every 14 days\n",
      "Hoover Cres. - High St. to James St.: Once every 7 days\n",
      "Gill St. - James St. to Bond St.: Once every 30 days\n",
      "Millard St. - Vivian Ln to Oxford St.: Once every 14 days\n",
      "Joshua Crt - Janes St to End: Once every 16 days\n",
      "Regent St. - James St to Crawford St.: Once every 14 days\n",
      "Regent St. - Crawford St to Oxford St.: Once every 9 days\n",
      "East St. - James St. to Crawford St.: Once every 14 days\n",
      "East St. - Crawford St. to Hilda St.: Once every 14 days\n",
      "East St. - Hilda St. to Oxford St.: Once every 30 days\n",
      "Leslie St. - James St. to Franklin St.: Once every 30 days\n",
      "Leslie St. - Franklin St. to Crawford St.: Once every 14 days\n",
      "Crawford St. - East St. to Leslie St.: Once every 30 days\n",
      "Crawford St. - Regent St. to East St.: Once every 30 days\n",
      "Franklin St. - Leslie St. to Raymond St.: Once every 14 days\n",
      "Franklin St. - Raymond St. to Forest Ave.: Once every 14 days\n",
      "Crawford St. - Leslie St. to Raymond Ave.: Once every 9 days\n",
      "Forest Ave. - Franklin St. to Crawford St.: Once every 13 days\n",
      "Raymond Ave. - Crawford St. to Hilda: Once every 7 days\n",
      "Raymond Ave. - Hilda St. to Oxford St.: Once every 14 days\n",
      "Hilda St. - Raymond Ave. to Forest Ave.: Once every 30 days\n",
      "Forest Ave. - Crawford St. to Hilda St.: Once every 30 days\n",
      "Forest Ave. - James St. to Franklin St.: Once every 14 days\n",
      "Forest Ave. - Hilda St. to Oxford St.: Once every 14 days\n",
      "Oxford St. - Raymond Ave. to Forest Ave.: Once every 7 days\n",
      "Raymond Ave. - Oxford St. to Delia St.: Once every 14 days\n",
      "Forest Ave. - Delia St to Hwy 12: Once every 14 days\n",
      "Bayview Ave. - Atherley Rd. to Franklin St.: Once every 14 days\n",
      "Bayview Ave. - Franklin Ave. to Crawford St.: Once every 30 days\n",
      "Bayview Ave. - Crawford St. to Hilda St.: Once every 7 days\n",
      "Bayview Ave. - Hilda St. to Oxford St.: Once every 29 days\n",
      "Delia St. - Forest Ave. to Oxford St.: Once every 14 days\n",
      "Oxford St. - Forest Ave. to Bayview Pkwy: Once every 14 days\n",
      "Hilda St. - Forest Ave. to Bayview Pkwy: Once every 14 days\n",
      "Crawford St. - Forest Ave. to Bayview Pkwy: Once every 7 days\n",
      "Franklin St. - Forest Ave. to Bayview Pkwy: Once every 14 days\n",
      "Oxford St. - East St. to Raymond Ave.: Once every 14 days\n",
      "Oxford St. - Regent St. to East St.: Once every 14 days\n",
      "Oxford St. - Millard St. to Regent St.: Once every 14 days\n",
      "Oxford St. - Gill St. to Oxford St.: Once every 30 days\n",
      "Gill St. - Bond St. to Oxford St.: Once every 14 days\n",
      "Regent St. - Oxford St to End: Once every 30 days\n",
      "Simcoe St. - Gill to End: Once every 7 days\n",
      "Gill St. - Oxford St. to Simcoe St.: Once every 7 days\n",
      "Gill St. - Simcoe St. to Hwy 12: Once every 30 days\n",
      "Simcoe St. - High to Gill: Once every 16 days\n",
      "High St. - Simcoe St. to Hwy 12: Once every 14 days\n",
      "Simcoe St. - West to High: Once every 7 days\n",
      "West St - Simcoe St. to West. St.: Once every 7 days\n",
      "Dorset Dr. - Bond St. to End: Once every 14 days\n",
      "High St. - Bond St. to Simcoe St.: Once every 14 days\n",
      "Bond St. - Dorset Dr. to High St.: Once every 30 days\n",
      "Bond St. - High St. to Gill St.: Once every 14 days\n",
      "West St. - James St to Bond St.: Once every 30 days\n",
      "Bond St. - West St. to Dorset Dr.: Once every 7 days\n",
      "West St. - Bond St. to Simcoe St.: Once every 14 days\n",
      "Michelle Dr. - James St. to Bond St.: Once every 7 days\n",
      "East St. - Clayborne Pl to James St.: Once every 16 days\n",
      "East St. - Atherley Rd. to Clayborne Pl.: Once every 30 days\n",
      "Clayborne Pl - End to East St.: Once every 14 days\n",
      "Moffat St. - Atherley Rd. to James St.: Once every 30 days\n",
      "Millard St. - Atherley Rd. to James St.: Once every 7 days\n",
      "Gill St. - Poughkeepsie St..to James St.: Once every 30 days\n",
      "Gill St. - Atherley Rd. to Poughkeepsie St.: Once every 14 days\n"
     ]
    }
   ],
   "source": [
    "        print(\"Decoded Predictions:\")\n",
    "        for pred in decoded_predictions:\n",
    "            print(pred)"
   ]
  },
  {
   "cell_type": "code",
   "execution_count": 42,
   "id": "6206dbab-4213-4937-8886-0e51c86c1ddc",
   "metadata": {},
   "outputs": [
    {
     "data": {
      "image/png": "[encoded data removed]",
      "text/plain": [
       "<Figure size 1200x500 with 2 Axes>"
      ]
     },
     "metadata": {},
     "output_type": "display_data"
    }
   ],
   "source": [
    "        # Plot the model performance\n",
    "        plot_model_performance(y_test_freq, y_pred[:, 0], y_test_interval, y_pred[:, 1])"
   ]
  },
  {
   "cell_type": "code",
   "execution_count": null,
   "id": "0d385524-b58b-48dc-b3f3-ac494bfd082a",
   "metadata": {},
   "outputs": [],
   "source": []
  }
 ],
 "metadata": {
  "kernelspec": {
   "display_name": "Python 3 (ipykernel)",
   "language": "python",
   "name": "python3"
  },
  "language_info": {
   "codemirror_mode": {
    "name": "ipython",
    "version": 3
   },
   "file_extension": ".py",
   "mimetype": "text/x-python",
   "name": "python",
   "nbconvert_exporter": "python",
   "pygments_lexer": "ipython3",
   "version": "3.11.7"
  }
 },
 "nbformat": 4,
 "nbformat_minor": 5
}
